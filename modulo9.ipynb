{
 "cells": [
  {
   "cell_type": "markdown",
   "metadata": {},
   "source": [
    "# Ejercicio1"
   ]
  },
  {
   "cell_type": "code",
   "execution_count": 12,
   "metadata": {},
   "outputs": [
    {
     "name": "stdout",
     "output_type": "stream",
     "text": [
      "Reporte de combustible:\n",
      "    Promedio Total: 81.66666666666667%\n",
      "    Tanque principal: 85%\n",
      "    Tanque secundario: 70%\n",
      "    Reserva de emergencia: 90%\n",
      "    \n"
     ]
    },
    {
     "data": {
      "text/plain": [
       "82.0"
      ]
     },
     "execution_count": 12,
     "metadata": {},
     "output_type": "execute_result"
    }
   ],
   "source": [
    "# Función para leer 3 tanques de combustible y muestre el promedio\n",
    "\n",
    "def gasTanques(tanque1, tanque2, tanque3,):\n",
    "    promedioTotal = (tanque1 + tanque2 + tanque3 ) / 3\n",
    "    return f\"\"\"Reporte de combustible:\n",
    "    Promedio Total: {promedioTotal}%\n",
    "    Tanque principal: {tanque1}%\n",
    "    Tanque secundario: {tanque2}%\n",
    "    Reserva de emergencia: {tanque3}%\n",
    "    \"\"\"\n",
    "print(gasTanques(85,70,90))\n",
    "\n",
    "def promedio (valores):\n",
    "    total = sum(valores)\n",
    "    numeroTanques = len(valores)\n",
    "    return total / numeroTanques\n",
    "\n",
    "promedio([85,71,90])\n"
   ]
  },
  {
   "cell_type": "markdown",
   "metadata": {},
   "source": [
    "## Ejercicio 2"
   ]
  },
  {
   "cell_type": "code",
   "execution_count": 15,
   "metadata": {},
   "outputs": [
    {
     "name": "stdout",
     "output_type": "stream",
     "text": [
      "\n",
      "    Mision a: Marte\n",
      "    Tiempo total de vuelo: 764 minutos\n",
      "    Combustible total: 187 litros\n",
      "    \n"
     ]
    },
    {
     "ename": "NameError",
     "evalue": "name 'reservaCombustible' is not defined",
     "output_type": "error",
     "traceback": [
      "\u001b[0;31m---------------------------------------------------------------------------\u001b[0m",
      "\u001b[0;31mNameError\u001b[0m                                 Traceback (most recent call last)",
      "\u001b[1;32m/Users/mac/Desktop/Programacion/modulo9.ipynb Cell 4'\u001b[0m in \u001b[0;36m<module>\u001b[0;34m\u001b[0m\n\u001b[1;32m     <a href='vscode-notebook-cell:/Users/mac/Desktop/Programacion/modulo9.ipynb#ch0000004?line=11'>12</a>\u001b[0m \u001b[39mdef\u001b[39;00m \u001b[39mmision1\u001b[39m (destino1, \u001b[39m*\u001b[39mminutos, \u001b[39m*\u001b[39m\u001b[39m*\u001b[39mcombustible):\n\u001b[1;32m     <a href='vscode-notebook-cell:/Users/mac/Desktop/Programacion/modulo9.ipynb#ch0000004?line=12'>13</a>\u001b[0m     \u001b[39mreturn\u001b[39;00m \u001b[39mf\u001b[39m\u001b[39m\"\"\"\u001b[39m\n\u001b[1;32m     <a href='vscode-notebook-cell:/Users/mac/Desktop/Programacion/modulo9.ipynb#ch0000004?line=13'>14</a>\u001b[0m \u001b[39m    mision a: \u001b[39m\u001b[39m{\u001b[39;00mdestino1\u001b[39m}\u001b[39;00m\n\u001b[1;32m     <a href='vscode-notebook-cell:/Users/mac/Desktop/Programacion/modulo9.ipynb#ch0000004?line=14'>15</a>\u001b[0m \u001b[39m    Tiempo total de viaje: \u001b[39m\u001b[39m{\u001b[39;00m\u001b[39msum\u001b[39m(minutos)\u001b[39m}\u001b[39;00m\u001b[39mminytos\u001b[39m\n\u001b[1;32m     <a href='vscode-notebook-cell:/Users/mac/Desktop/Programacion/modulo9.ipynb#ch0000004?line=15'>16</a>\u001b[0m \u001b[39m    Combustible total: \u001b[39m\u001b[39m{\u001b[39;00m\u001b[39msum\u001b[39m(combustible\u001b[39m.\u001b[39mvalues())\u001b[39m}\u001b[39;00m\n\u001b[1;32m     <a href='vscode-notebook-cell:/Users/mac/Desktop/Programacion/modulo9.ipynb#ch0000004?line=16'>17</a>\u001b[0m \u001b[39m    \u001b[39m\u001b[39m\"\"\"\u001b[39m\n\u001b[0;32m---> <a href='vscode-notebook-cell:/Users/mac/Desktop/Programacion/modulo9.ipynb#ch0000004?line=18'>19</a>\u001b[0m \u001b[39mfor\u001b[39;00m nombreTanque, litros \u001b[39min\u001b[39;00m reservaCombustible\u001b[39m.\u001b[39mitems():\n\u001b[1;32m     <a href='vscode-notebook-cell:/Users/mac/Desktop/Programacion/modulo9.ipynb#ch0000004?line=19'>20</a>\u001b[0m     reportePrincipal \u001b[39m+\u001b[39m\u001b[39m=\u001b[39m \u001b[39mf\u001b[39m\u001b[39m\"\u001b[39m\u001b[39m{\u001b[39;00mnombreTanque\u001b[39m}\u001b[39;00m\u001b[39m tanque -->\u001b[39m\u001b[39m{\u001b[39;00mlitros\u001b[39m}\u001b[39;00m\u001b[39m litros restantes\u001b[39m\u001b[39m\"\u001b[39m\n\u001b[1;32m     <a href='vscode-notebook-cell:/Users/mac/Desktop/Programacion/modulo9.ipynb#ch0000004?line=20'>21</a>\u001b[0m \u001b[39mreturn\u001b[39;00m reportePrincipal\n",
      "\u001b[0;31mNameError\u001b[0m: name 'reservaCombustible' is not defined"
     ]
    }
   ],
   "source": [
    "# Función con un informe preciso de la misión. Considera hora de prelanzamiento, tiempo de vuelo, destino, tanque externo y tanque interno\n",
    "\n",
    "def mision (tiempoPreLanzamiento, tiempoVuelo, destino, tanque1, tanque2):\n",
    "    return f\"\"\"\n",
    "    Mision a: {destino}\n",
    "    Tiempo total de vuelo: {tiempoPreLanzamiento + tiempoVuelo} minutos\n",
    "    Combustible total: {tanque1 + tanque2} litros\n",
    "    \"\"\"\n",
    "\n",
    "print(mision(89, 675, 'Marte', 89, 98))\n",
    "\n",
    "def mision1 (destino1, *minutos, **combustible):\n",
    "    reporteMision = f\"\"\"\n",
    "    mision a: {destino1}\n",
    "    Tiempo total de viaje: {sum(minutos)}minytos\n",
    "    Combustible total: {sum(combustible.values())}\n",
    "    \"\"\"\n",
    "\n",
    "for nombreTanque, litros in combustible.items():\n",
    "    reporteMision += f\"{nombreTanque} tanque -->{litros} litros restantes\"\n",
    "return reporteMision\n",
    "\n",
    "print(mision1('Luna', 9, 19, 87, principal=899, externo=988 ))\n",
    "\n",
    "\n",
    "\n"
   ]
  }
 ],
 "metadata": {
  "interpreter": {
   "hash": "aee8b7b246df8f9039afb4144a1f6fd8d2ca17a180786b69acc140d282b71a49"
  },
  "kernelspec": {
   "display_name": "Python 3.10.2 64-bit",
   "language": "python",
   "name": "python3"
  },
  "language_info": {
   "codemirror_mode": {
    "name": "ipython",
    "version": 3
   },
   "file_extension": ".py",
   "mimetype": "text/x-python",
   "name": "python",
   "nbconvert_exporter": "python",
   "pygments_lexer": "ipython3",
   "version": "3.10.2"
  },
  "orig_nbformat": 4
 },
 "nbformat": 4,
 "nbformat_minor": 2
}
